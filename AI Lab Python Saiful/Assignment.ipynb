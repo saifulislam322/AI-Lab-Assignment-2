{
 "cells": [
  {
   "cell_type": "code",
   "execution_count": 26,
   "metadata": {},
   "outputs": [
    {
     "name": "stdout",
     "output_type": "stream",
     "text": [
      "a\n",
      "c\n",
      "b\n",
      "d\n",
      "e\n"
     ]
    }
   ],
   "source": [
    "import collections\n",
    "class graph:\n",
    "    def __init__(self,gdict=None):\n",
    "        if gdict is None:\n",
    "            gdict = {}\n",
    "        self.gdict = gdict\n",
    "\n",
    "def bfs(graph, startnode):\n",
    "# Track the visited and unvisited nodes using queue\n",
    "        seen, queue = set([startnode]), collections.deque([startnode])\n",
    "        while queue:\n",
    "            vertex = queue.popleft()\n",
    "            marked(vertex)\n",
    "            for node in graph[vertex]:\n",
    "                if node not in seen:\n",
    "                    seen.add(node)\n",
    "                    queue.append(node)\n",
    "\n",
    "def marked(n):\n",
    "    print(n)\n",
    "\n",
    "# The graph dictionary\n",
    "gdict = { \"a\" : set([\"b\",\"c\"]),\n",
    "                \"b\" : set([\"a\", \"d\"]),\n",
    "                \"c\" : set([\"a\", \"d\"]),\n",
    "                \"d\" : set([\"e\"]),\n",
    "                \"e\" : set([\"a\"])\n",
    "                }\n",
    "\n",
    "bfs(gdict, \"a\")\n",
    "\n"
   ]
  },
  {
   "cell_type": "code",
   "execution_count": 21,
   "metadata": {},
   "outputs": [
    {
     "name": "stdout",
     "output_type": "stream",
     "text": [
      "0\n",
      "2\n",
      "1\n",
      "3\n",
      "4\n"
     ]
    },
    {
     "data": {
      "text/plain": [
       "{'0', '1', '2', '3', '4'}"
      ]
     },
     "execution_count": 21,
     "metadata": {},
     "output_type": "execute_result"
    }
   ],
   "source": [
    "    def dfs(graph, start, visited=None):\n",
    "        if visited is None:\n",
    "            visited = set()\n",
    "        visited.add(start)\n",
    "        print(start)\n",
    "        for next in graph[start] - visited:\n",
    "            dfs(graph, next, visited)\n",
    "        return visited\n",
    "    graph = {'0': set(['1', '2']),\n",
    "             '1': set(['0', '3', '4']),\n",
    "             '2': set(['0']),\n",
    "             '3': set(['1']),\n",
    "             '4': set(['2', '3'])}\n",
    "    dfs(graph, '0')"
   ]
  },
  {
   "cell_type": "code",
   "execution_count": 18,
   "metadata": {},
   "outputs": [
    {
     "name": "stdout",
     "output_type": "stream",
     "text": [
      "['A', 'B', 'D', 'F']\n"
     ]
    }
   ],
   "source": [
    "def bfs( start, end, graph ):\n",
    "\ttodo = [(start, [start])]\n",
    "\twhile len( todo ):\n",
    "\t\tnode, path = todo.pop( 0 )\n",
    "\t\tfor next_node in graph[node]:\n",
    "\t\t\tif next_node in path:\n",
    "\t\t\t\tcontinue\n",
    "\t\t\telif next_node == end:\n",
    "\t\t\t\tyield path + [next_node]\n",
    "\t\t\telse:\n",
    "\t\t\t\ttodo.append( (next_node, path + [next_node]) )\n",
    "\n",
    "\n",
    "if __name__ == '__main__':\n",
    "\tgraph = { 'A': ['B','C'],\n",
    "\t\t\t  'B': ['D'],\n",
    "\t\t\t  'C': ['E'],\n",
    "\t\t\t  'D': ['E', 'F'],\n",
    "\t\t\t  'E': [] }\n",
    "\t[ print( x ) for x in bfs( 'A', 'F', graph ) ]\n",
    "# ['A', 'B', 'D', 'F']"
   ]
  },
  {
   "cell_type": "code",
   "execution_count": null,
   "metadata": {},
   "outputs": [],
   "source": []
  }
 ],
 "metadata": {
  "kernelspec": {
   "display_name": "Python 3",
   "language": "python",
   "name": "python3"
  },
  "language_info": {
   "codemirror_mode": {
    "name": "ipython",
    "version": 3
   },
   "file_extension": ".py",
   "mimetype": "text/x-python",
   "name": "python",
   "nbconvert_exporter": "python",
   "pygments_lexer": "ipython3",
   "version": "3.7.3"
  }
 },
 "nbformat": 4,
 "nbformat_minor": 2
}
